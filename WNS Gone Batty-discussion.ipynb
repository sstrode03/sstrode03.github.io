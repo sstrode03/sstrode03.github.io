{
 "cells": [
  {
   "cell_type": "markdown",
   "id": "5e24edf4-2659-43bc-91fd-8fadda7a9276",
   "metadata": {
    "tags": []
   },
   "source": [
    "# White Nose Syndrome Gone \"Batty\" Project Notebook\n",
    "\n",
    "<hr>\n",
    "Bella Larson, Elizabeth Letch, Chloe Marshall, Serena Strode"
   ]
  },
  {
   "cell_type": "markdown",
   "id": "ef22e522-7af1-49d2-b9bc-f840a2260070",
   "metadata": {},
   "source": [
    "| <a href=\"/WNS Gone Batty-intropage.html\">Introduction</a>|<a href=\"/WNS Gone Batty-pre-processing.html\">Preprocessing</a>|<a href=\"/WNS Gone Batty-model building.html\">Model Building</a>|<a href=\"/WNS Gone Batty-discussion.html\">Discussion</a>|<a href=\"/WNS Gone Batty-references.html\">References</a>|\n",
    "| ------------- | ------------- | ------------- | ------------- | ------------- |"
   ]
  },
  {
   "cell_type": "markdown",
   "id": "dc686ded-9cd7-4c29-8ba7-d4f749dfe7f3",
   "metadata": {},
   "source": [
    "# Results and Discussion\n",
    "\n",
    "We started with the Eastern region because it $(a)$ represents the real-world ground zero for WNS and $(b)$ had the largest amount of data, covering roughly 18 years of WNS tracking. We were able to obtain fairly accurate curves tracking $p$ and $w$ populations by guessing at the $a$ and $k$ parameters. After performing numerical integration with the differential equations we established, we found predictive model curves for each population. WNS follows a roughly logistic growth curve while $Pd$ shows more of a rise-and-fall or humped-shaped curve. These curve shapes make sense when examining the biological dynamics of an epidemic like WNS. Infection rates will naturally rise over time as interactions between populations of bats occurs. This point was controlled by our second assumption: $\\textbf{Assumption 2: Bats are not migrating from region to region, only interacting with bats within the same region.}$ Once the fungus spreads enough, it can develop into WNS. WNS is a fatal disease, so it grows logistically, controlled by the infected ($Pd$ positive) population and some growth rate $k$ until it reaches a peak amount of bats. Once the bats die from the disease, though, they can no longer support the spread of the disease. While this is occurring, the number of $Pd$ positive counties declines as the status of disease develops into WNS positive.\n",
    "\n",
    "We were able to create a successful epidemiology model for the Eastern region. Since we had the most data for the Eastern region, we had the greatest ability to accurately model the behavior of WNS in that region. This is also an accurate representation of the diseases' origins and spread. Our guesses at the $a$ and $k$ parameters produced similar fits to our numerically integrated model curve, confirming that we have a good example model that can be applied. Our next two figures represent predictive modeling. Parallel to the spread of WNS, we next moved westward to the Central region. Most of the data for this model came from our data frame, but the last five or so years of data are predictive, based on the combination of trends observed in that region and the mathematical model created earlier. From that predictive model, it can be inferred that the $Pd$ positive population is on the way to its decline in the next few years as WNS spikes by 2028. Continuing the projection even more, we focused on the Mountain region, as that is where the disease will spread next and becuase it is especially relevant to us Coloradans. Only the first five years on this plot come from our data frame, with the next 13 years being extrapolated by the epidemiology model. \n",
    "\n",
    "\n",
    "### Error Analysis\n",
    "\n",
    "Our largest sources of error came from the assumptions we had to make. Outside of the two assumptions stated earlier, we made many assumptions when determining the total \"healthy\" population size. We had to assume that there were $(a)$ caves in every county and $(b)$ an equal amount of caves in every county. To accomplish this, we found a rough estimate of the number of caves in North America, though the exact count is protected by the government, and we divided this number by the five regions we created. Another source of error is the fact that the counties do not necessarily correlate with the number of bats. In the Eastern region, counties tend to be smaller, creating larger numbers of cases which can amount to seemlingly greater numbers of $Pd$ positive or WNS positive bats. Lastly, our $Pd$ positive curves are \"smaller\" than our WNS positive curves because the data set we found doesn't show when a county that is now determined to be WNS positive became WNS positive from $Pd$ positive."
   ]
  },
  {
   "cell_type": "markdown",
   "id": "53268762-d20f-4b89-9e88-4dc2106968e3",
   "metadata": {},
   "source": [
    "# Next Steps\n",
    "\n",
    "A good next step for this project would be to add a \"healthy population\" curve to our epidemiology models. The issue we had with doing this was that the number would be so far above the $Pd$ positive and WNS positive curves that the relationship between those and their unique shapes would be lost. However, if we were to keep working, we would figure out a better way to model this in the context of all caves in North America. Another step we'd take is to explore the effect of cave cleaning or other preventative measures. This would affect the $Pd$ positive curve, allowing it to decline, preventing WNS. There is no current preventative measure in place, though, to stop the spread of the $Pd$ fungus. There is also no current understanding of a way to heal bats with WNS, but if there were a medictaion, including a recovery curve would help. A recovery curve would show the healthy population beginning to increase again, with declining counts of WNS positive. The last step we'd want to take would be to explore other factors affecting $Pd$ growth, such as climate, and mapping $Pd$ cases compared to that factor we explore."
   ]
  },
  {
   "cell_type": "markdown",
   "id": "f123e632-7ae1-49fa-982b-870bbd656ad6",
   "metadata": {},
   "source": [
    "| <a href=\"/WNS Gone Batty-intropage.html\">Introduction</a>|<a href=\"/WNS Gone Batty-pre-processing.html\">Preprocessing</a>|<a href=\"/WNS Gone Batty-model building.html\">Model Building</a>|<a href=\"/WNS Gone Batty-discussion.html\">Discussion</a>|<a href=\"/WNS Gone Batty-references.html\">References</a>|\n",
    "| ------------- | ------------- | ------------- | ------------- | ------------- |"
   ]
  }
 ],
 "metadata": {
  "kernelspec": {
   "display_name": "Python 3 (ipykernel)",
   "language": "python",
   "name": "python3"
  },
  "language_info": {
   "codemirror_mode": {
    "name": "ipython",
    "version": 3
   },
   "file_extension": ".py",
   "mimetype": "text/x-python",
   "name": "python",
   "nbconvert_exporter": "python",
   "pygments_lexer": "ipython3",
   "version": "3.11.5"
  }
 },
 "nbformat": 4,
 "nbformat_minor": 5
}
