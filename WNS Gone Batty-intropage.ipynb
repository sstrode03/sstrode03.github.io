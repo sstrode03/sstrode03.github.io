{
 "cells": [
  {
   "cell_type": "markdown",
   "id": "3510141f-ca95-4ff7-9c5f-23a8a83f78e2",
   "metadata": {},
   "source": [
    "# White Nose Syndrome Gone \"Batty\" Project Notebook\n",
    "\n",
    "<hr>\n",
    "Bella Larson, Elizabeth Letch, Chloe Marshall, Serena Strode"
   ]
  },
  {
   "cell_type": "markdown",
   "id": "a930c37c-719b-4213-85b6-30f55b30b63d",
   "metadata": {
    "execution": {
     "iopub.execute_input": "2024-12-02T19:49:28.224749Z",
     "iopub.status.busy": "2024-12-02T19:49:28.224188Z",
     "iopub.status.idle": "2024-12-02T19:49:28.237892Z",
     "shell.execute_reply": "2024-12-02T19:49:28.236674Z",
     "shell.execute_reply.started": "2024-12-02T19:49:28.224719Z"
    }
   },
   "source": [
    "| <a href=\"/WNS Gone Batty-intropage.html\">Introduction</a>|<a href=\"/WNS Gone Batty-pre-processing.html\">Preprocessing</a>|<a href=\"/WNS Gone Batty-model building.html\">Model Building</a>|<a href=\"/WNS Gone Batty-discussion.html\">Discussion</a>|<a href=\"/WNS Gone Batty-references.html\">References</a>|\n",
    "| ------------- | ------------- | ------------- | ------------- | ------------- |"
   ]
  },
  {
   "cell_type": "markdown",
   "id": "a8f1422f-45b3-4b3e-bc17-1ddeab7b6c80",
   "metadata": {},
   "source": [
    "## Introduction\n",
    "\n",
    "### Background Information\n",
    "<div>\n",
    "  <figure style=\"float: right; margin-left: 10px; width: 400px; text-align: center;\">\n",
    "    <img src=\"orca_wns_RyanvonLinden.jpg\" alt=\"Description\" style=\"width: 100%;\">\n",
    "    <figcaption style=\"font-size: 12px; color: gray;\">Figure 1 shows a bat with fungal growth. NPS photo/von Linden</figcaption>\n",
    "  </figure>\n",
    "   White Nose Syndrome (WNS) is a fungal disease present in bat populations around the world caused by the $\\textit{Pseudogymnoascus destructans (Pd)}$ fungal pathogen [1]. The emergence of the disease in the northeast of the United States caused a “mass mortality of hibernating bats,” which rapidly decreased the region’s populations of once-common species starting in 2006. Transmission of the disease is often bat-to-bat and to date has spread more slowly in the western regions of North America than the eastern regions [2]. The fungus grows on the nuzzles and wings of bats, which then disturbs their hibernation cycle, leading to dehydration, exhaustion, starvation, and eventually death [3]. \n",
    "    \n",
    "White nose syndrome is still spreading, and it is not fully understood what the ecological and economical impacts could be resulting from declining bat populations. Bats are one of the most powerful sources of pest control available, saving over $3 billion annually [4] in pest control across the entire agricultural sector. While WNS only affects bats in the United States, the techniques that could be used to develop models for its spread are not specific to this disease, and we could apply these models to other diseases in the natural world, such as chronic wasting disease, which primarily affects deer in the United States [5]. \n",
    "\n",
    "By providing a model of how WNS affects populations, this model can then be applied to current bat populations to better understand the fallout that could occur. Because WNS can have a nearly 100% fatality rate in bat populations [6], it is crucial to understand how it spreads through a population and how this can be monitored and better understood.\n",
    "</div>"
   ]
  },
  {
   "cell_type": "markdown",
   "id": "63d10e31-4dd4-4b37-8853-e4ead540dd4c",
   "metadata": {},
   "source": [
    "### Data Identification \n",
    "We are using data from the White-Nose Syndrome Response Team, which has data tracking WNS positive cases, WNS suspected cases, Pd confirmed cases, and Pd presumed cases dating back to 2006 [7]. \n",
    "\n",
    "[wns_county_status](wns_county_status.csv)"
   ]
  }
 ],
 "metadata": {
  "kernelspec": {
   "display_name": "Python 3 (ipykernel)",
   "language": "python",
   "name": "python3"
  },
  "language_info": {
   "codemirror_mode": {
    "name": "ipython",
    "version": 3
   },
   "file_extension": ".py",
   "mimetype": "text/x-python",
   "name": "python",
   "nbconvert_exporter": "python",
   "pygments_lexer": "ipython3",
   "version": "3.11.5"
  }
 },
 "nbformat": 4,
 "nbformat_minor": 5
}
