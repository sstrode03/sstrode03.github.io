{
 "cells": [
  {
   "cell_type": "markdown",
   "id": "3510141f-ca95-4ff7-9c5f-23a8a83f78e2",
   "metadata": {},
   "source": [
    "# White Nose Syndrome Gone \"Batty\" Project Notebook\n",
    "\n",
    "<hr>\n",
    "Bella Larson, Elizabeth Letch, Chloe Marshall, Serena Strode"
   ]
  },
  {
   "cell_type": "code",
   "execution_count": 2,
   "id": "741775f9-de30-4496-9019-b8cf41e6057c",
   "metadata": {
    "tags": []
   },
   "outputs": [],
   "source": [
    "# Imports\n",
    "\n",
    "from IPython.core.display import Image\n",
    "import pandas as pd\n",
    "import numpy as np\n",
    "import matplotlib.pyplot as plt\n",
    "import scipy.optimize\n",
    "import scipy.stats as stats\n",
    "from scipy.optimize import minimize\n",
    "import seaborn as sns"
   ]
  },
  {
   "cell_type": "markdown",
   "id": "a8f1422f-45b3-4b3e-bc17-1ddeab7b6c80",
   "metadata": {},
   "source": [
    "## Introduction\n",
    "\n",
    "### Background Information\n",
    "<div>\n",
    "  <figure style=\"float: right; margin-left: 10px; width: 400px; text-align: center;\">\n",
    "    <img src=\"orca_wns_RyanvonLinden.jpg\" alt=\"Description\" style=\"width: 100%;\">\n",
    "    <figcaption style=\"font-size: 12px; color: gray;\">Figure 1 shows a bat with fungal growth. NPS photo/von Linden</figcaption>\n",
    "  </figure>\n",
    "   White Nose Syndrome (WNS) is a fungal disease present in bat populations around the world caused by the $\\textit{Pseudogymnoascus destructans (Pd)}$ fungal pathogen [1]. The emergence of the disease in the northeast of the United States caused a “mass mortality of hibernating bats,” which rapidly decreased the region’s populations of once-common species starting in 2006. Transmission of the disease is often bat-to-bat and to date has spread more slowly in the western regions of North America than the eastern regions [2]. The fungus grows on the nuzzles and wings of bats, which then disturbs their hibernation cycle, leading to dehydration, exhaustion, starvation, and eventually death [3]. \n",
    "    \n",
    "White nose syndrome is still spreading, and it is not fully understood what the ecological and economical impacts could be resulting from declining bat populations. Bats are one of the most powerful sources of pest control available, saving over $3 billion annually [4] in pest control across the entire agricultural sector. While WNS only affects bats in the United States, the techniques that could be used to develop models for its spread are not specific to this disease, and we could apply these models to other diseases in the natural world, such as chronic wasting disease, which primarily affects deer in the United States [5]. \n",
    "\n",
    "By providing a model of how WNS affects populations, this model can then be applied to current bat populations to better understand the fallout that could occur. Because WNS can have a nearly 100% fatality rate in bat populations [6], it is crucial to understand how it spreads through a population and how this can be monitored and better understood.\n",
    "</div>"
   ]
  },
  {
   "cell_type": "markdown",
   "id": "63d10e31-4dd4-4b37-8853-e4ead540dd4c",
   "metadata": {},
   "source": [
    "### Data Identification \n",
    "We are using data from the White-Nose Syndrome Response Team, which has data tracking WNS positive cases, WNS suspected cases, Pd confirmed cases, and Pd presumed cases dating back to 2006 [7]. \n",
    "\n",
    "[wns_county_status](wns_county_status.csv)"
   ]
  },
  {
   "cell_type": "markdown",
   "id": "e169b000-0690-4337-9809-d509ba837277",
   "metadata": {},
   "source": [
    "## Implementation\n",
    "\n",
    "### Data Pre-Processing\n",
    "\n",
    "<div>\n",
    "  <figure style=\"float: right; margin-left: 10px; width: 400px; text-align: center;\">\n",
    "    <img src=\"regions_map.jpg\" alt=\"Description\" style=\"width: 100%;\">\n",
    "    <figcaption style=\"font-size: 12px; color: gray;\">Figure 2 shows North America split into its major time zones.</figcaption>\n",
    "  </figure>\n",
    "    Here, we are going to read in our .csv file of data, which has 5 columns, and 708 rows. The first column indicates whether the data is from the United States or Canada (\"country\"). The next column indicates the state (USA) or province (Canada) the data is coming from (\"stateprov\"). The third column gives the name of the county the data is from (\"county\"). The fourth column gives the current status of the county as Pd Presumed, Pd Positive, WNS Suspect, or WNS Positive (\"determination\"). The fifth column includes a date for when that determination data was released (\"release_date\"). The last column gives the data collection season (a range of two years) for when the most recent status was determined (\"status_season\").\n",
    "\n",
    "We know that WNS started in the Northeastern region of North America and has since spread westward. We would like to be able to visualize these geographic regions in order to make predictions about WNS in Western North America, using Eastern North America as our example. To do this, we created five regions, based on the common time zones in North America (Pacific, Mountain, Central, Eastern, Atlantic). We disregarded that certain Canadian provinces have their own time zones, and if a state exists in multiple time zones, we chose the one that accounted for the largest portion of the state. We then created a dictionary to map each state or province (from \"stateprov\") into its corresponding region. We added a \"Region\" column to our data frame.\n",
    "</div>"
   ]
  },
  {
   "cell_type": "code",
   "execution_count": 6,
   "id": "3a2aef9c-9e85-4bb1-a6d2-b4bd640b7b6a",
   "metadata": {
    "tags": []
   },
   "outputs": [
    {
     "ename": "FileNotFoundError",
     "evalue": "[Errno 2] No such file or directory: 'wns_county_status.csv'",
     "output_type": "error",
     "traceback": [
      "\u001b[0;31m---------------------------------------------------------------------------\u001b[0m",
      "\u001b[0;31mFileNotFoundError\u001b[0m                         Traceback (most recent call last)",
      "Cell \u001b[0;32mIn[6], line 2\u001b[0m\n\u001b[1;32m      1\u001b[0m \u001b[38;5;66;03m# Read in the data provided by White Nose Response Team\u001b[39;00m\n\u001b[0;32m----> 2\u001b[0m df \u001b[38;5;241m=\u001b[39m pd\u001b[38;5;241m.\u001b[39mread_csv(\u001b[38;5;124m\"\u001b[39m\u001b[38;5;124mwns_county_status.csv\u001b[39m\u001b[38;5;124m\"\u001b[39m)\n\u001b[1;32m      4\u001b[0m \u001b[38;5;66;03m# Create a dictionary to sort the state data into their appropriate time zones\u001b[39;00m\n\u001b[1;32m      5\u001b[0m region_mapping \u001b[38;5;241m=\u001b[39m {\n\u001b[1;32m      6\u001b[0m          \u001b[38;5;124m'\u001b[39m\u001b[38;5;124mWyoming\u001b[39m\u001b[38;5;124m'\u001b[39m : \u001b[38;5;124m'\u001b[39m\u001b[38;5;124mMountain\u001b[39m\u001b[38;5;124m'\u001b[39m, \u001b[38;5;124m'\u001b[39m\u001b[38;5;124mNebraska\u001b[39m\u001b[38;5;124m'\u001b[39m : \u001b[38;5;124m\"\u001b[39m\u001b[38;5;124mCentral\u001b[39m\u001b[38;5;124m\"\u001b[39m, \u001b[38;5;124m'\u001b[39m\u001b[38;5;124mMississippi\u001b[39m\u001b[38;5;124m'\u001b[39m: \u001b[38;5;124m\"\u001b[39m\u001b[38;5;124mCentral\u001b[39m\u001b[38;5;124m\"\u001b[39m, \n\u001b[1;32m      7\u001b[0m          \u001b[38;5;124m'\u001b[39m\u001b[38;5;124mMissouri\u001b[39m\u001b[38;5;124m'\u001b[39m: \u001b[38;5;124m\"\u001b[39m\u001b[38;5;124mCentral\u001b[39m\u001b[38;5;124m\"\u001b[39m, \u001b[38;5;124m'\u001b[39m\u001b[38;5;124mSouth Dakota\u001b[39m\u001b[38;5;124m'\u001b[39m: \u001b[38;5;124m\"\u001b[39m\u001b[38;5;124mCentral\u001b[39m\u001b[38;5;124m\"\u001b[39m,\n\u001b[0;32m   (...)\u001b[0m\n\u001b[1;32m     20\u001b[0m        \u001b[38;5;124m'\u001b[39m\u001b[38;5;124mNew Hampshire\u001b[39m\u001b[38;5;124m'\u001b[39m: \u001b[38;5;124m\"\u001b[39m\u001b[38;5;124mEastern\u001b[39m\u001b[38;5;124m\"\u001b[39m, \u001b[38;5;124m'\u001b[39m\u001b[38;5;124mMaine\u001b[39m\u001b[38;5;124m'\u001b[39m: \u001b[38;5;124m\"\u001b[39m\u001b[38;5;124mEastern\u001b[39m\u001b[38;5;124m\"\u001b[39m   \n\u001b[1;32m     21\u001b[0m }\n",
      "File \u001b[0;32m~/anaconda3/lib/python3.11/site-packages/pandas/io/parsers/readers.py:948\u001b[0m, in \u001b[0;36mread_csv\u001b[0;34m(filepath_or_buffer, sep, delimiter, header, names, index_col, usecols, dtype, engine, converters, true_values, false_values, skipinitialspace, skiprows, skipfooter, nrows, na_values, keep_default_na, na_filter, verbose, skip_blank_lines, parse_dates, infer_datetime_format, keep_date_col, date_parser, date_format, dayfirst, cache_dates, iterator, chunksize, compression, thousands, decimal, lineterminator, quotechar, quoting, doublequote, escapechar, comment, encoding, encoding_errors, dialect, on_bad_lines, delim_whitespace, low_memory, memory_map, float_precision, storage_options, dtype_backend)\u001b[0m\n\u001b[1;32m    935\u001b[0m kwds_defaults \u001b[38;5;241m=\u001b[39m _refine_defaults_read(\n\u001b[1;32m    936\u001b[0m     dialect,\n\u001b[1;32m    937\u001b[0m     delimiter,\n\u001b[0;32m   (...)\u001b[0m\n\u001b[1;32m    944\u001b[0m     dtype_backend\u001b[38;5;241m=\u001b[39mdtype_backend,\n\u001b[1;32m    945\u001b[0m )\n\u001b[1;32m    946\u001b[0m kwds\u001b[38;5;241m.\u001b[39mupdate(kwds_defaults)\n\u001b[0;32m--> 948\u001b[0m \u001b[38;5;28;01mreturn\u001b[39;00m _read(filepath_or_buffer, kwds)\n",
      "File \u001b[0;32m~/anaconda3/lib/python3.11/site-packages/pandas/io/parsers/readers.py:611\u001b[0m, in \u001b[0;36m_read\u001b[0;34m(filepath_or_buffer, kwds)\u001b[0m\n\u001b[1;32m    608\u001b[0m _validate_names(kwds\u001b[38;5;241m.\u001b[39mget(\u001b[38;5;124m\"\u001b[39m\u001b[38;5;124mnames\u001b[39m\u001b[38;5;124m\"\u001b[39m, \u001b[38;5;28;01mNone\u001b[39;00m))\n\u001b[1;32m    610\u001b[0m \u001b[38;5;66;03m# Create the parser.\u001b[39;00m\n\u001b[0;32m--> 611\u001b[0m parser \u001b[38;5;241m=\u001b[39m TextFileReader(filepath_or_buffer, \u001b[38;5;241m*\u001b[39m\u001b[38;5;241m*\u001b[39mkwds)\n\u001b[1;32m    613\u001b[0m \u001b[38;5;28;01mif\u001b[39;00m chunksize \u001b[38;5;129;01mor\u001b[39;00m iterator:\n\u001b[1;32m    614\u001b[0m     \u001b[38;5;28;01mreturn\u001b[39;00m parser\n",
      "File \u001b[0;32m~/anaconda3/lib/python3.11/site-packages/pandas/io/parsers/readers.py:1448\u001b[0m, in \u001b[0;36mTextFileReader.__init__\u001b[0;34m(self, f, engine, **kwds)\u001b[0m\n\u001b[1;32m   1445\u001b[0m     \u001b[38;5;28mself\u001b[39m\u001b[38;5;241m.\u001b[39moptions[\u001b[38;5;124m\"\u001b[39m\u001b[38;5;124mhas_index_names\u001b[39m\u001b[38;5;124m\"\u001b[39m] \u001b[38;5;241m=\u001b[39m kwds[\u001b[38;5;124m\"\u001b[39m\u001b[38;5;124mhas_index_names\u001b[39m\u001b[38;5;124m\"\u001b[39m]\n\u001b[1;32m   1447\u001b[0m \u001b[38;5;28mself\u001b[39m\u001b[38;5;241m.\u001b[39mhandles: IOHandles \u001b[38;5;241m|\u001b[39m \u001b[38;5;28;01mNone\u001b[39;00m \u001b[38;5;241m=\u001b[39m \u001b[38;5;28;01mNone\u001b[39;00m\n\u001b[0;32m-> 1448\u001b[0m \u001b[38;5;28mself\u001b[39m\u001b[38;5;241m.\u001b[39m_engine \u001b[38;5;241m=\u001b[39m \u001b[38;5;28mself\u001b[39m\u001b[38;5;241m.\u001b[39m_make_engine(f, \u001b[38;5;28mself\u001b[39m\u001b[38;5;241m.\u001b[39mengine)\n",
      "File \u001b[0;32m~/anaconda3/lib/python3.11/site-packages/pandas/io/parsers/readers.py:1705\u001b[0m, in \u001b[0;36mTextFileReader._make_engine\u001b[0;34m(self, f, engine)\u001b[0m\n\u001b[1;32m   1703\u001b[0m     \u001b[38;5;28;01mif\u001b[39;00m \u001b[38;5;124m\"\u001b[39m\u001b[38;5;124mb\u001b[39m\u001b[38;5;124m\"\u001b[39m \u001b[38;5;129;01mnot\u001b[39;00m \u001b[38;5;129;01min\u001b[39;00m mode:\n\u001b[1;32m   1704\u001b[0m         mode \u001b[38;5;241m+\u001b[39m\u001b[38;5;241m=\u001b[39m \u001b[38;5;124m\"\u001b[39m\u001b[38;5;124mb\u001b[39m\u001b[38;5;124m\"\u001b[39m\n\u001b[0;32m-> 1705\u001b[0m \u001b[38;5;28mself\u001b[39m\u001b[38;5;241m.\u001b[39mhandles \u001b[38;5;241m=\u001b[39m get_handle(\n\u001b[1;32m   1706\u001b[0m     f,\n\u001b[1;32m   1707\u001b[0m     mode,\n\u001b[1;32m   1708\u001b[0m     encoding\u001b[38;5;241m=\u001b[39m\u001b[38;5;28mself\u001b[39m\u001b[38;5;241m.\u001b[39moptions\u001b[38;5;241m.\u001b[39mget(\u001b[38;5;124m\"\u001b[39m\u001b[38;5;124mencoding\u001b[39m\u001b[38;5;124m\"\u001b[39m, \u001b[38;5;28;01mNone\u001b[39;00m),\n\u001b[1;32m   1709\u001b[0m     compression\u001b[38;5;241m=\u001b[39m\u001b[38;5;28mself\u001b[39m\u001b[38;5;241m.\u001b[39moptions\u001b[38;5;241m.\u001b[39mget(\u001b[38;5;124m\"\u001b[39m\u001b[38;5;124mcompression\u001b[39m\u001b[38;5;124m\"\u001b[39m, \u001b[38;5;28;01mNone\u001b[39;00m),\n\u001b[1;32m   1710\u001b[0m     memory_map\u001b[38;5;241m=\u001b[39m\u001b[38;5;28mself\u001b[39m\u001b[38;5;241m.\u001b[39moptions\u001b[38;5;241m.\u001b[39mget(\u001b[38;5;124m\"\u001b[39m\u001b[38;5;124mmemory_map\u001b[39m\u001b[38;5;124m\"\u001b[39m, \u001b[38;5;28;01mFalse\u001b[39;00m),\n\u001b[1;32m   1711\u001b[0m     is_text\u001b[38;5;241m=\u001b[39mis_text,\n\u001b[1;32m   1712\u001b[0m     errors\u001b[38;5;241m=\u001b[39m\u001b[38;5;28mself\u001b[39m\u001b[38;5;241m.\u001b[39moptions\u001b[38;5;241m.\u001b[39mget(\u001b[38;5;124m\"\u001b[39m\u001b[38;5;124mencoding_errors\u001b[39m\u001b[38;5;124m\"\u001b[39m, \u001b[38;5;124m\"\u001b[39m\u001b[38;5;124mstrict\u001b[39m\u001b[38;5;124m\"\u001b[39m),\n\u001b[1;32m   1713\u001b[0m     storage_options\u001b[38;5;241m=\u001b[39m\u001b[38;5;28mself\u001b[39m\u001b[38;5;241m.\u001b[39moptions\u001b[38;5;241m.\u001b[39mget(\u001b[38;5;124m\"\u001b[39m\u001b[38;5;124mstorage_options\u001b[39m\u001b[38;5;124m\"\u001b[39m, \u001b[38;5;28;01mNone\u001b[39;00m),\n\u001b[1;32m   1714\u001b[0m )\n\u001b[1;32m   1715\u001b[0m \u001b[38;5;28;01massert\u001b[39;00m \u001b[38;5;28mself\u001b[39m\u001b[38;5;241m.\u001b[39mhandles \u001b[38;5;129;01mis\u001b[39;00m \u001b[38;5;129;01mnot\u001b[39;00m \u001b[38;5;28;01mNone\u001b[39;00m\n\u001b[1;32m   1716\u001b[0m f \u001b[38;5;241m=\u001b[39m \u001b[38;5;28mself\u001b[39m\u001b[38;5;241m.\u001b[39mhandles\u001b[38;5;241m.\u001b[39mhandle\n",
      "File \u001b[0;32m~/anaconda3/lib/python3.11/site-packages/pandas/io/common.py:863\u001b[0m, in \u001b[0;36mget_handle\u001b[0;34m(path_or_buf, mode, encoding, compression, memory_map, is_text, errors, storage_options)\u001b[0m\n\u001b[1;32m    858\u001b[0m \u001b[38;5;28;01melif\u001b[39;00m \u001b[38;5;28misinstance\u001b[39m(handle, \u001b[38;5;28mstr\u001b[39m):\n\u001b[1;32m    859\u001b[0m     \u001b[38;5;66;03m# Check whether the filename is to be opened in binary mode.\u001b[39;00m\n\u001b[1;32m    860\u001b[0m     \u001b[38;5;66;03m# Binary mode does not support 'encoding' and 'newline'.\u001b[39;00m\n\u001b[1;32m    861\u001b[0m     \u001b[38;5;28;01mif\u001b[39;00m ioargs\u001b[38;5;241m.\u001b[39mencoding \u001b[38;5;129;01mand\u001b[39;00m \u001b[38;5;124m\"\u001b[39m\u001b[38;5;124mb\u001b[39m\u001b[38;5;124m\"\u001b[39m \u001b[38;5;129;01mnot\u001b[39;00m \u001b[38;5;129;01min\u001b[39;00m ioargs\u001b[38;5;241m.\u001b[39mmode:\n\u001b[1;32m    862\u001b[0m         \u001b[38;5;66;03m# Encoding\u001b[39;00m\n\u001b[0;32m--> 863\u001b[0m         handle \u001b[38;5;241m=\u001b[39m \u001b[38;5;28mopen\u001b[39m(\n\u001b[1;32m    864\u001b[0m             handle,\n\u001b[1;32m    865\u001b[0m             ioargs\u001b[38;5;241m.\u001b[39mmode,\n\u001b[1;32m    866\u001b[0m             encoding\u001b[38;5;241m=\u001b[39mioargs\u001b[38;5;241m.\u001b[39mencoding,\n\u001b[1;32m    867\u001b[0m             errors\u001b[38;5;241m=\u001b[39merrors,\n\u001b[1;32m    868\u001b[0m             newline\u001b[38;5;241m=\u001b[39m\u001b[38;5;124m\"\u001b[39m\u001b[38;5;124m\"\u001b[39m,\n\u001b[1;32m    869\u001b[0m         )\n\u001b[1;32m    870\u001b[0m     \u001b[38;5;28;01melse\u001b[39;00m:\n\u001b[1;32m    871\u001b[0m         \u001b[38;5;66;03m# Binary mode\u001b[39;00m\n\u001b[1;32m    872\u001b[0m         handle \u001b[38;5;241m=\u001b[39m \u001b[38;5;28mopen\u001b[39m(handle, ioargs\u001b[38;5;241m.\u001b[39mmode)\n",
      "\u001b[0;31mFileNotFoundError\u001b[0m: [Errno 2] No such file or directory: 'wns_county_status.csv'"
     ]
    }
   ],
   "source": [
    "# Read in the data provided by White Nose Response Team\n",
    "df = pd.read_csv(\"wns_county_status.csv\")\n",
    "\n",
    "# Create a dictionary to sort the state data into their appropriate time zones\n",
    "region_mapping = {\n",
    "         'Wyoming' : 'Mountain', 'Nebraska' : \"Central\", 'Mississippi': \"Central\", \n",
    "         'Missouri': \"Central\", 'South Dakota': \"Central\",\n",
    "         'Washington': \"Pacific\", 'Kansas': \"Central\", 'Texas': \"Central\", \n",
    "        'North Dakota': \"Central\", 'Alberta': \"Mountain\",\n",
    "       'Saskatchewan': \"Mountain\", 'British Columbia': \"Pacific\", 'Quebec': \"Eastern\",\n",
    "       'Newfoundland and Labrador': \"Atlantic\", 'Manitoba': \"Central\", 'New Brunswick': \"Atlantic\",\n",
    "       'Ontario': \"Eastern\", 'Newfoundland': \"Atlantic\", 'Nova Scotia': \"Atlantic\", 'Prince Edward': \"Atlantic\",\n",
    "       'Louisiana': \"Central\", 'California': \"Pacific\", 'Michigan': \"Eastern\", 'South Carolina': \"Eastern\",\n",
    "       'Wisconsin': \"Central\", 'Alabama': \"Central\", 'Minnesota': \"Central\", 'Oklahoma': \"Central\", 'Montana': \"Mountain\",\n",
    "       'Georgia': \"Eastern\", 'Utah': \"Mountain\", 'Colorado': \"Mountain\", 'New Mexico': \"Mountain\", 'Arkansas': \"Central\",\n",
    "       'Massachusetts': \"Eastern\", 'Idaho': \"Mountain\", 'Indiana': \"Eastern\", 'Iowa': \"Central\", 'North Carolina': \"Eastern\",\n",
    "       'Pennsylvania': \"Eastern\", 'Illinois': \"Central\", 'New York': \"Eastern\", 'Tennessee': \"Central\", 'Virginia': \"Eastern\",\n",
    "       'Kentucky': \"Eastern\", 'West Virginia': \"Eastern\", 'Ohio': \"Eastern\", 'Maryland': \"Eastern\", 'Delaware': \"Eastern\",\n",
    "       'New Jersey': \"Eastern\", 'Connecticut': \"Eastern\", 'Rhode Island': \"Eastern\", 'Vermont': \"Eastern\",\n",
    "       'New Hampshire': \"Eastern\", 'Maine': \"Eastern\"   \n",
    "}\n",
    "\n",
    "# Add a new column for the region\n",
    "df['Region'] = df['stateprov'].map(region_mapping)\n",
    "\n",
    "df.head()"
   ]
  },
  {
   "cell_type": "markdown",
   "id": "f7150a7c-1e89-469f-b4f6-b8723c34f89d",
   "metadata": {},
   "source": [
    "### Plotting WNS Spread\n",
    "\n",
    "<div>\n",
    "  <figure style=\"float: right; margin-left: 10px; width: 400px; text-align: center;\">\n",
    "    <img src=\"WNS_spread_map_2024-11-18.png.png\" alt=\"Description\" style=\"width: 100%;\">\n",
    "    <figcaption style=\"font-size: 12px; color: gray;\">Figure 3 shows the spread of WNS in North America.</figcaption>\n",
    "  </figure>\n",
    "    We want to observe how our data set models the spread of the disease in comparison to an actual map of how WNS has spread in the United States, pictured to the right. This map shows the locations of WNS cases over time, with blues indicating earlier cases than reds and orange. From this legend, we can track the spread of WNS from the Northeast originally to more recent cases emerging in the West. To replicate this, we grouped the number of each determination in each region. We were then able to create a grouped bar chart, plotting the regions from West to East along the horizontal axis, and the number of each determination reported along the vertical axis. The figure to the right and the figure below show us the density of WNS in the Northeast of North America, with far greater counts of WNS in the Eastern timezone than anywhere else. Our model below doesn't factor time into the graph, but the visualization helps to understand the regions most affected, and use that information to drive future predictive models.\n",
    "</div>"
   ]
  },
  {
   "cell_type": "code",
   "execution_count": null,
   "id": "8a92c4b5-0fb5-4c39-bf5c-8fffddc1fc3b",
   "metadata": {
    "tags": []
   },
   "outputs": [],
   "source": [
    "# Group by Region and Determination, then count occurrences\n",
    "determination_counts = df.groupby([\"Region\", \"determination\"]).size().unstack(fill_value=0)\n",
    "\n",
    "# Reorder regions to follow the actual time zones of North America, from West to East\n",
    "region_order = [\"Pacific\", \"Mountain\", \"Central\", \"Eastern\", \"Atlantic\"]\n",
    "\n",
    "# Count the determinations based on the order of regions\n",
    "determination_counts = determination_counts.loc[region_order]\n",
    "\n",
    "# Plot the grouped bar chart\n",
    "determination_counts.plot(kind=\"bar\", figsize=(10, 6), width=0.8)\n",
    "\n",
    "# Customize the chart\n",
    "plt.title(\"Determination Counts by Region\", fontsize=16)\n",
    "plt.xlabel(\"Region\", fontsize=14)\n",
    "plt.ylabel(\"Count\", fontsize=14)\n",
    "plt.xticks(rotation=45, fontsize=12)\n",
    "plt.legend(title=\"Determination\", fontsize=12)\n",
    "plt.tight_layout()\n",
    "\n",
    "# Show the plot\n",
    "plt.show()"
   ]
  },
  {
   "cell_type": "markdown",
   "id": "9e47eddd-8aa6-4343-9c6f-ef7c8a61d418",
   "metadata": {},
   "source": [
    "### Creating a New Data Frame\n",
    "\n",
    "Next, we wanted to create a new data frame that reflected the information we were most interested in. To do this, we identified all the seasons from the \"status_season\" column. Then, we initialized the lists that would become our new columns in the data frame, which capture the region, season, and the numbers of each determination. We iterated through both \"Regions\" and \"status_season\" to add a counter for the number of each determination in all unique seasons within a region. \n",
    "\n",
    "Here, we established $\\textbf{Assumption 1: If a given county's determination is \"WNS Positive\", then in the previous season, it was \"Pd Positive\"}$. \n",
    "\n",
    "To test if our iteration and Boolean Indexing worked as it should've, we printed a list of the regions and the counts for Pd Positive entries."
   ]
  },
  {
   "cell_type": "code",
   "execution_count": null,
   "id": "15d5c539-915d-4c26-aaab-1e5797cb8946",
   "metadata": {
    "tags": []
   },
   "outputs": [],
   "source": [
    "# Create a list of the status seasons logged in the data\n",
    "seasons = np.sort(df[\"status_season\"].unique())\n",
    "\n",
    "# Create blank lists to create a new data frame from\n",
    "regions = []\n",
    "status_season_entries = []\n",
    "wns_pos_entries = []\n",
    "pd_pos_entries = []\n",
    "wns_sus_entries = []\n",
    "pd_sus_entries = []\n",
    "\n",
    "# Sort based on region\n",
    "for region in df[\"Region\"].unique():\n",
    "    for status_season_n in range(len(seasons)):\n",
    "        wns_pos = 0\n",
    "        pd_pos = 0\n",
    "        wns_sus = 0\n",
    "        pd_sus = 0\n",
    "        \n",
    "        # Create a counter from the last entry in the appropriate column\n",
    "        if status_season_n > 0:\n",
    "            wns_pos += wns_pos_entries[-1]\n",
    "            pd_pos += pd_pos_entries[-1]\n",
    "            wns_sus += wns_sus_entries[-1]\n",
    "            pd_sus += pd_sus_entries[-1]\n",
    "        \n",
    "        # Sort by cases and the appropriate status season\n",
    "        for idx, entry in df[(df[\"Region\"] == region) & (df[\"status_season\"] == seasons[status_season_n])].iterrows():\n",
    "            match entry[\"determination\"]:\n",
    "                \n",
    "                # Assumption 1: Counties go from Pd Presumed to Pd Positive to WNS Suspect to WNS Positive\n",
    "                case \"WNS Positive\":\n",
    "                    wns_pos += 1\n",
    "                    if status_season_n != 0:\n",
    "                        pd_pos_entries[-1] += 1\n",
    "                case \"Pd Positive\":\n",
    "                    pd_pos += 1\n",
    "                case \"WNS Suspect\":\n",
    "                    wns_sus += 1\n",
    "                case \"Pd Presumed\":\n",
    "                    pd_sus += 1\n",
    "                \n",
    "        # Add values to newly created lists for a new data frame\n",
    "        regions.append(region)\n",
    "        status_season_entries.append(seasons[status_season_n])\n",
    "        pd_pos_entries.append(pd_pos)\n",
    "        wns_pos_entries.append(wns_pos)\n",
    "        wns_sus_entries.append(wns_sus)\n",
    "        pd_sus_entries.append(pd_sus)\n",
    "\n",
    "# Testing to check our Boolean Indexing and looping\n",
    "print(regions, pd_pos_entries)"
   ]
  },
  {
   "cell_type": "markdown",
   "id": "30e8ccec-ce92-476d-9468-fa3d76b5eeaa",
   "metadata": {},
   "source": [
    "Below, we actually create the new data frame, with six columns and 90 rows. This data frame shows us how many cases of each determination were identified in each season, for every region. "
   ]
  },
  {
   "cell_type": "code",
   "execution_count": null,
   "id": "f7f98a9e-0f99-4578-867d-39ccd2a952bf",
   "metadata": {
    "tags": []
   },
   "outputs": [],
   "source": [
    "# Create a new data frame to track regions through status seasons\n",
    "df2 = pd.DataFrame()\n",
    "df2[\"region\"] = regions\n",
    "df2[\"status_season\"] = status_season_entries\n",
    "df2[\"wns_pos\"] = wns_pos_entries\n",
    "df2[\"pd_pos\"] = pd_pos_entries\n",
    "df2[\"wns_suspected\"] = wns_sus_entries\n",
    "df2[\"pd_presumed\"] = pd_sus_entries\n",
    "\n",
    "df2"
   ]
  },
  {
   "cell_type": "markdown",
   "id": "3b0b9f43-6215-4ed9-be66-1e1ad9bc2606",
   "metadata": {
    "tags": []
   },
   "source": [
    "### Creating an Epidemic Model\n",
    "\n",
    "Using this new data frame, we wanted to create a working epidemiology model, based on methods used in class. Since the disease first started in the Eastern timezone, we had the largest and most complete data set for that region. We used the Eastern region data as the foundation for the epidemiology model."
   ]
  },
  {
   "cell_type": "code",
   "execution_count": null,
   "id": "0f64fe4a-5b38-4fc9-a843-1263524c3fcb",
   "metadata": {
    "tags": []
   },
   "outputs": [],
   "source": [
    "# Isolate the Eastern Region as it is where WNS first appeared (Most complete data over time)\n",
    "Region = \"Eastern\"\n",
    "df3 = df2[df2[\"region\"] == Region]\n",
    "df3"
   ]
  },
  {
   "cell_type": "markdown",
   "id": "8318e6b4-54de-4942-a1e5-d0e3cbecfd97",
   "metadata": {},
   "source": [
    "We established three populations: healthy $(h)$, Pd positive $(p)$, and WNS positive $(w)$. We created three differential equations to model the spread of the disease:\n",
    "$$\\begin{align} \\\\\n",
    "\\frac{dh}{dt} &= -ahp \\\\\n",
    "\\frac{dp}{dt} &= ahp - kp \\\\\n",
    "\\frac{dw}{dt} &= kp\n",
    "\\end{align}$$\n",
    "\n",
    "Breaing down the parameters, $a$ is the infection rate of the $Pd$ fungus and $k$ is the rate of WNS occurance. The healthy population declines based on the infection rate and number of $Pd$ positive cases. The $Pd$ positive population increases with healthy bats becoming infected and decreases as bats succumb to WNS. The WNS positive population increases with an increasing population of $Pd$ positive bats becoming WNS positive. "
   ]
  },
  {
   "cell_type": "code",
   "execution_count": null,
   "id": "0ee9bc9d-30ad-487e-8ec0-f092fb6e7bec",
   "metadata": {
    "tags": []
   },
   "outputs": [],
   "source": [
    "# Create time list to integrate over\n",
    "t = np.arange(0,18)\n",
    "\n",
    "\n",
    "# Create epidemic model with differential equations\n",
    "def epidemic_rhs(hpw, t, a, k):\n",
    "    h,p,w = hpw\n",
    "    dh_dt = -a * h * p  \n",
    "    dp_dt = a * h * p - k * p\n",
    "    dw_dt = k * p \n",
    "    \n",
    "    return np.array([dh_dt, dp_dt, dw_dt])\n",
    "\n",
    "\n",
    "# Create inital conditions for healthy, Pd positive, and WNS positive counties\n",
    "# Healthy counties found by dividing total counties in North America with caves evenly amongst time zones\n",
    "hpw_0 = [214, 14, 2]\n",
    "\n",
    "\n",
    "# Create variable values, found via plugging in until values matched curve closely\n",
    "a = 0.0065\n",
    "k = 0.7\n",
    "\n",
    "# Solve for true values\n",
    "hpw = scipy.integrate.odeint(epidemic_rhs, hpw_0, t, args=(a, k))\n",
    "h = hpw[:,0]\n",
    "p = hpw[:,1]\n",
    "w = hpw[:,2]\n",
    "\n",
    "\n",
    "# Plot the results\n",
    "plt.plot(df3[\"status_season\"], df3[\"wns_pos\"], label=\"WNS Positive Counties\", color = 'black')\n",
    "plt.plot(df3[\"status_season\"], df3[\"pd_pos\"], label=\"$Pd$ Positive Counties\", color = 'red')\n",
    "plt.plot(t, p, '--', color = 'red', alpha = 0.7, label='Model ($Pd$ pos)')\n",
    "plt.plot(t, w, '--', color = 'black', alpha = 0.7, label='Model (WNS Pos)')\n",
    "plt.xlabel('Season')\n",
    "plt.ylabel('Effected Counties')\n",
    "plt.title('Spread of WNS and $Pd$ Through Eastern Time Zone')\n",
    "plt.xticks(rotation = 90) \n",
    "plt.legend()\n",
    "plt.show()"
   ]
  },
  {
   "cell_type": "markdown",
   "id": "5174703d-6500-40ba-b3a6-3dfe5ccbf82f",
   "metadata": {},
   "source": [
    "### Applying the Epidemic Model\n",
    "\n",
    "Plotted above are the actual trend of $Pd$ positive counties and WNS positive in the Eastern region along with their predictive best fits from our integration equation above. We were able to obtain fairly close fits with our integration, as demonstrated in dashed lines. Using this model, we extended the concepts to the region that was infected next: the Central Region. "
   ]
  },
  {
   "cell_type": "code",
   "execution_count": null,
   "id": "0d9420f5-23f2-41df-afe5-60fb6d46a59b",
   "metadata": {
    "tags": []
   },
   "outputs": [],
   "source": [
    "# Isolate region of interst\n",
    "Region = \"Central\"\n",
    "df4 = df2[df2[\"region\"] == Region]\n",
    "\n",
    "# Only find cases in the specific region where cases are present\n",
    "df_central = df4[df4['pd_pos'] > 0]\n",
    "\n",
    "remaining_int_t = np.arange(0,3)\n",
    "\n",
    "# Use intial conditons of last staus season\n",
    "hpw_0 = [15, 59, 158]\n",
    "\n",
    "# Create list for axis labels\n",
    "axis = ['2008-2009','2009-2010','2010-2011','2011-2012','2012-2013','2013-2014','2014-2015','2015-2016',\n",
    "        '2016-2017','2017-2018','2018-2019','2019-2020','2020-2021','2021-2022','2023-2024','2024-2025',\n",
    "        '2025-2026', '2026-2027', '2027-2028']\n",
    "\n",
    "\n",
    "# Create list of time stamps to match labels to\n",
    "axis_t = np.arange(0,19)\n",
    "\n",
    "# Extrapolate with same epidemic model from above, using constants found to be best match in most complete data set\n",
    "hpw = scipy.integrate.odeint(epidemic_rhs, hpw_0, remaining_int_t, args=(a, k))\n",
    "h = hpw[:,0]\n",
    "p = hpw[:,1]\n",
    "w = hpw[:,2]\n",
    "\n",
    "\n",
    "# Turn data frame into lists to be added to extrapolated data\n",
    "pd_pos = df_central['pd_pos'].tolist()\n",
    "wns_pos = df_central['wns_pos'].tolist()\n",
    "\n",
    "\n",
    "# Combine extrapolated data and current data to be plotted\n",
    "for extrapolated in p:\n",
    "    pd_pos.append(extrapolated)\n",
    "\n",
    "for extrapolated in w:\n",
    "    wns_pos.append(extrapolated)\n",
    "\n",
    "# Plot results\n",
    "plt.plot(df_central[\"status_season\"], df_central[\"wns_pos\"], label=\"WNS Positive Counties\", color = 'black');\n",
    "plt.plot(df_central[\"status_season\"], df_central[\"pd_pos\"], label=\"Pd Positive Counties\", color = 'red')\n",
    "plt.plot(wns_pos,'--', color = 'black', alpha = 0.7, label='Model (WNS Pos)')\n",
    "plt.plot(pd_pos, '--', color = 'red', alpha = 0.7, label='Model ($Pd$ Pos)')\n",
    "plt.xlabel('Season')\n",
    "plt.ylabel('Effected Counties')\n",
    "plt.title('Projected Spread of WNS and $Pd$ Through Central Time Zone')\n",
    "plt.xticks(axis_t, axis)\n",
    "plt.xticks(rotation = 90)\n",
    "plt.legend()\n",
    "plt.show()"
   ]
  },
  {
   "cell_type": "markdown",
   "id": "d6e71155-f22a-460f-a472-07f49b811d99",
   "metadata": {},
   "source": [
    "Using the epidemic model we created with data for the Eastern region, we were able to extend and extrapolate data for the Central region. The dashed lines show a projection for the $Pd$ positive and WNS positive populations. We continued this same pattern with the Mountain region below. "
   ]
  },
  {
   "cell_type": "code",
   "execution_count": null,
   "id": "23a182bd-a23d-4f83-9dcb-4d0876e00de5",
   "metadata": {
    "tags": []
   },
   "outputs": [],
   "source": [
    "# Isolate region of interst\n",
    "Region = \"Mountain\"\n",
    "df4 = df2[df2[\"region\"] == Region]\n",
    "\n",
    "# Only find cases in the specific region where cases are present\n",
    "df_mountain = df4[df4['pd_pos'] > 0]\n",
    "\n",
    "\n",
    "# Use intial conditons of last staus season\n",
    "hpw_0 = [214, 45, 22]\n",
    "\n",
    "#Create list for axis labels\n",
    "axis = ['2019-2020','2020-2021','2021-2022','2022-2023','2023-2024','2024-2025','2025-2026','2026-2027',\n",
    "        '2027-2028','2028-2029','2029-2030','2030-2031','2031-2032','2032-2033','2033-2034','2034-2035','2035-2036',\n",
    "        '2036-2037']\n",
    "\n",
    "# Create list for remaining time to get to 18 seasons of data\n",
    "remaining_int_t = np.arange(0,13)\n",
    "\n",
    "\n",
    "# Create list of time stamps to match labels to\n",
    "axis_t = np.arange(0,18)\n",
    "\n",
    "# Extrapolate with same epidemic model from above, using constants found to be best match in most complete data set\n",
    "hpw = scipy.integrate.odeint(epidemic_rhs, hpw_0, remaining_int_t, args=(a, k))\n",
    "h = hpw[:,0]\n",
    "p = hpw[:,1]\n",
    "w = hpw[:,2]\n",
    "\n",
    "\n",
    "# Turn data frame into lists to be added to extrapolated data\n",
    "pd_pos = df_mountain['pd_pos'].tolist()\n",
    "wns_pos = df_mountain['wns_pos'].tolist()\n",
    "\n",
    "\n",
    "# Combine extrapolated data and current data to be plotted\n",
    "for extrapolated in p:\n",
    "    pd_pos.append(extrapolated)\n",
    "\n",
    "for extrapolated in w:\n",
    "    wns_pos.append(extrapolated)\n",
    "\n",
    "# Plot results\n",
    "plt.plot(df_mountain[\"status_season\"], df_mountain[\"wns_pos\"], label=\"WNS Positive Counties\", color = 'black');\n",
    "plt.plot(df_mountain[\"status_season\"], df_mountain[\"pd_pos\"], label=\"Pd Positive Counties\", color = 'red')\n",
    "plt.plot(wns_pos,'--', color = 'black', alpha = 0.7, label='Model (WNS Pos)')\n",
    "plt.plot(pd_pos, '--', color = 'red', alpha = 0.7, label='Model ($Pd$ Pos)')\n",
    "plt.xlabel('Season')\n",
    "plt.ylabel('Effected Counties')\n",
    "plt.title('Projected Spread of WNS and $Pd$ Through Mountain Time Zone')\n",
    "plt.xticks(axis_t, axis)\n",
    "plt.xticks(rotation = 90)\n",
    "plt.legend()\n",
    "plt.show()"
   ]
  },
  {
   "cell_type": "markdown",
   "id": "0da1d3ce-f8e1-4978-91a6-eec389ee7f68",
   "metadata": {},
   "source": [
    "Most of this data is extrapolated, a projection based on our epidemic model. However, since WNS is still so new to the Mountain region, our model can serve as a valuable indicator of what may be coming for the bat populations in this region over the next decade or so."
   ]
  },
  {
   "cell_type": "markdown",
   "id": "dc686ded-9cd7-4c29-8ba7-d4f749dfe7f3",
   "metadata": {},
   "source": [
    "# Results and Discussion\n",
    "\n",
    "We started with the Eastern region because it $(a)$ represents the real-world ground zero for WNS and $(b)$ had the largest amount of data, covering roughly 18 years of WNS tracking. We were able to obtain fairly accurate curves tracking $p$ and $w$ populations by guessing at the $a$ and $k$ parameters. After performing numerical integration with the differential equations we established, we found predictive model curves for each population. WNS follows a roughly logistic growth curve while $Pd$ shows more of a rise-and-fall or humped-shaped curve. These curve shapes make sense when examining the biological dynamics of an epidemic like WNS. Infection rates will naturally rise over time as interactions between populations of bats occurs. This point was controlled by our second assumption: $\\textbf{Assumption 2: Bats are not migrating from region to region, only interacting with bats within the same region.}$ Once the fungus spreads enough, it can develop into WNS. WNS is a fatal disease, so it grows logistically, controlled by the infected ($Pd$ positive) population and some growth rate $k$ until it reaches a peak amount of bats. Once the bats die from the disease, though, they can no longer support the spread of the disease. While this is occurring, the number of $Pd$ positive counties declines as the status of disease develops into WNS positive.\n",
    "\n",
    "We were able to create a successful epidemiology model for the Eastern region. Since we had the most data for the Eastern region, we had the greatest ability to accurately model the behavior of WNS in that region. This is also an accurate representation of the diseases' origins and spread. Our guesses at the $a$ and $k$ parameters produced similar fits to our numerically integrated model curve, confirming that we have a good example model that can be applied. Our next two figures represent predictive modeling. Parallel to the spread of WNS, we next moved westward to the Central region. Most of the data for this model came from our data frame, but the last five or so years of data are predictive, based on the combination of trends observed in that region and the mathematical model created earlier. From that predictive model, it can be inferred that the $Pd$ positive population is on the way to its decline in the next few years as WNS spikes by 2028. Continuing the projection even more, we focused on the Mountain region, as that it where the disease next spread and becuase it hits close to home. Only the first five years on this plot come from our data frame, with the next 13 years being extrapolated by the epidemiology model. \n",
    "\n",
    "\n",
    "### Error Analysis\n",
    "\n",
    "Our largest sources of error came from the assumptions we had to make. Outside of the two assumptions stated earlier, we made many assumptions when determining the total \"healthy\" population size. We had to assume that there were $(a)$ caves in every county and $(b)$ an equal amount of caves in every county. To accomplish this, we found a rough estimate of the number of caves in North America, though the exact count is protect by the government, and we divided this number by the five regions we created. Another error comes from the fact that the counties do not necessarily correlate with the number of bats. In the Eastern region, counties tend to be smaller, creating larger numbers of cases which can compount to seemlingly greater numbers of $Pd$ positive or WNS positive bats. Lastly, our $Pd$ positive curves are \"smaller\" than our WNS positive curves because the data set we found doesn't show when a county that is now determined to be WNS positive became WNS positive from $Pd$ positive."
   ]
  },
  {
   "cell_type": "markdown",
   "id": "53268762-d20f-4b89-9e88-4dc2106968e3",
   "metadata": {},
   "source": [
    "# Next Steps\n",
    "\n",
    "A good next step for this project would be to add a \"healthy population\" curve to our epidemiology models. The issue we had with doing this was that the number would be so far above the $Pd$ positive and WNS positive curves that the relationship between those and their unique shapes would be lost. However, if we were to keep working, we would figure out a better way to model this in the context of all caves in North America. Another step we'd take is to explore the effect of cave cleaning or other preventative measures. This would affect the $Pd$ positive curve, allowing it to decline, preventing WNS. There is no current preventative measure in place, though, to stop the spread of the $Pd$ fungus. There is also no current understanding of a way to heal bats with WNS, but if there were a medictaion, including a recovery curve would help. A recovery curve, would show the healthy population beginning to increase again, with declining counts of WNS positive. The last step we'd want to take would be to explore other factors affecting $Pd$ growth, such as climate, and mapping $Pd$ cases compared to that factor we explore."
   ]
  },
  {
   "cell_type": "markdown",
   "id": "2601a18f-9c00-41d4-9b29-9dd6755b7e86",
   "metadata": {},
   "source": [
    "### References\n",
    "\n",
    "[1] Cheng TL, Reichard JD, Coleman JTH, et al. “The scope and severity of white-nose syndrome on hibernating bats in North America,” Conserv Biol. 2021, vol. 35(5) pp. 1586-1597. doi:10.1111/cobi.13739 \n",
    "\n",
    "[2] Blejwas, Karen et al. “Could White-Nose Syndrome Manifest Differently in Myotis Lucifugus in Western Versus Eastern Regions Of North America? A Review Of Factors,” Journal of wildlife diseases, 2023, vol. 59(3), pp. 381-397. doi:10.7589/JWD-D-22-00050 \n",
    "\n",
    "[3] “White-Nose Syndrome Killed Over 90% of Three North American Bat Species | U.S. Geological Survey,” www.usgs.gov, Apr. 21, 2021. https://www.usgs.gov/news/national-news-release/white-nose-syndrome-killed-over-90-three-north-american-bat-species \n",
    "\n",
    "[4] C. Celley, “Bats are one of the most important misunderstood animals,” FWS.gov, https://www.fws.gov/story/bats-are-one-most-important-misunderstood-animals#:~:text=Bats%20play%20an%20essential%20role,United%20States%20corn%20industry%20alone. (accessed Oct. 7, 2024). \n",
    "\n",
    "[5] Bryan J Richards, “Chronic Wasting Disease distribution in the United States by state and county (ver. 2.0, April 2024).” U.S. Geological Survey, Apr. 23, 2024. doi: 10.5066/P9HQKKFO. \n",
    "\n",
    "[6] White-Nose Syndrome Response Team, “White-Nose Syndrome,” Whitenosesyndrome.org, 2019. https://www.whitenosesyndrome.org/static-page/what-is-white-nose-syndrome\n",
    "\n",
    "[7] “White-Nose Syndrome,” www.whitenosesyndrome.org. https://www.whitenosesyndrome.org/where-is-wns"
   ]
  }
 ],
 "metadata": {
  "kernelspec": {
   "display_name": "Python 3 (ipykernel)",
   "language": "python",
   "name": "python3"
  },
  "language_info": {
   "codemirror_mode": {
    "name": "ipython",
    "version": 3
   },
   "file_extension": ".py",
   "mimetype": "text/x-python",
   "name": "python",
   "nbconvert_exporter": "python",
   "pygments_lexer": "ipython3",
   "version": "3.11.5"
  }
 },
 "nbformat": 4,
 "nbformat_minor": 5
}
