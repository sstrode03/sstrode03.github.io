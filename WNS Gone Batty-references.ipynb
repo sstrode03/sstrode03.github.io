{
 "cells": [
  {
   "cell_type": "markdown",
   "id": "ddbf1009-b6d9-4c20-abaf-ac82c8e51d84",
   "metadata": {
    "tags": []
   },
   "source": [
    "# White Nose Syndrome Gone \"Batty\" Project Notebook\n",
    "\n",
    "<hr>\n",
    "Bella Larson, Elizabeth Letch, Chloe Marshall, Serena Strode"
   ]
  },
  {
   "cell_type": "markdown",
   "id": "14fee973-7d44-48e5-93e6-0f383d7c4d6a",
   "metadata": {},
   "source": [
    "| <a href=\"/WNS Gone Batty-intropage.html\">Introduction</a>|<a href=\"/WNS Gone Batty-pre-processing.html\">Preprocessing</a>|<a href=\"/WNS Gone Batty-model building.html\">Model Building</a>|<a href=\"/WNS Gone Batty-discussion.html\">Discussion</a>|<a href=\"/WNS Gone Batty-references.html\">References</a>|\n",
    "| ------------- | ------------- | ------------- | ------------- | ------------- |"
   ]
  },
  {
   "cell_type": "markdown",
   "id": "2601a18f-9c00-41d4-9b29-9dd6755b7e86",
   "metadata": {},
   "source": [
    "### References\n",
    "\n",
    "[1] Cheng TL, Reichard JD, Coleman JTH, et al. “The scope and severity of white-nose syndrome on hibernating bats in North America,” Conserv Biol. 2021, vol. 35(5) pp. 1586-1597. doi:10.1111/cobi.13739 \n",
    "\n",
    "[2] Blejwas, Karen et al. “Could White-Nose Syndrome Manifest Differently in Myotis Lucifugus in Western Versus Eastern Regions Of North America? A Review Of Factors,” Journal of wildlife diseases, 2023, vol. 59(3), pp. 381-397. doi:10.7589/JWD-D-22-00050 \n",
    "\n",
    "[3] “White-Nose Syndrome Killed Over 90% of Three North American Bat Species | U.S. Geological Survey,” www.usgs.gov, Apr. 21, 2021. https://www.usgs.gov/news/national-news-release/white-nose-syndrome-killed-over-90-three-north-american-bat-species \n",
    "\n",
    "[4] C. Celley, “Bats are one of the most important misunderstood animals,” FWS.gov, https://www.fws.gov/story/bats-are-one-most-important-misunderstood-animals#:~:text=Bats%20play%20an%20essential%20role,United%20States%20corn%20industry%20alone. (accessed Oct. 7, 2024). \n",
    "\n",
    "[5] Bryan J Richards, “Chronic Wasting Disease distribution in the United States by state and county (ver. 2.0, April 2024).” U.S. Geological Survey, Apr. 23, 2024. doi: 10.5066/P9HQKKFO. \n",
    "\n",
    "[6] White-Nose Syndrome Response Team, “White-Nose Syndrome,” Whitenosesyndrome.org, 2019. https://www.whitenosesyndrome.org/static-page/what-is-white-nose-syndrome\n",
    "\n",
    "[7] “White-Nose Syndrome,” www.whitenosesyndrome.org. https://www.whitenosesyndrome.org/where-is-wns"
   ]
  },
  {
   "cell_type": "markdown",
   "id": "7620123e-4a42-4c85-acd3-457a3a82f532",
   "metadata": {
    "execution": {
     "iopub.execute_input": "2024-12-03T00:11:28.388551Z",
     "iopub.status.busy": "2024-12-03T00:11:28.385559Z",
     "iopub.status.idle": "2024-12-03T00:11:28.402159Z",
     "shell.execute_reply": "2024-12-03T00:11:28.401336Z",
     "shell.execute_reply.started": "2024-12-03T00:11:28.388455Z"
    }
   },
   "source": [
    "| <a href=\"/WNS Gone Batty-intropage.html\">Introduction</a>|<a href=\"/WNS Gone Batty-pre-processing.html\">Preprocessing</a>|<a href=\"/WNS Gone Batty-model building.html\">Model Building</a>|<a href=\"/WNS Gone Batty-discussion.html\">Discussion</a>|<a href=\"/WNS Gone Batty-references.html\">References</a>|\n",
    "| ------------- | ------------- | ------------- | ------------- | ------------- |"
   ]
  }
 ],
 "metadata": {
  "kernelspec": {
   "display_name": "Python 3 (ipykernel)",
   "language": "python",
   "name": "python3"
  },
  "language_info": {
   "codemirror_mode": {
    "name": "ipython",
    "version": 3
   },
   "file_extension": ".py",
   "mimetype": "text/x-python",
   "name": "python",
   "nbconvert_exporter": "python",
   "pygments_lexer": "ipython3",
   "version": "3.11.5"
  }
 },
 "nbformat": 4,
 "nbformat_minor": 5
}
